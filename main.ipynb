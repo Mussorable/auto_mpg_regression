{
 "cells": [
  {
   "cell_type": "code",
   "execution_count": 19,
   "id": "cb9792e5",
   "metadata": {},
   "outputs": [
    {
     "name": "stdout",
     "output_type": "stream",
     "text": [
      "Requirement already satisfied: ucimlrepo in c:\\users\\o_o\\anaconda3\\lib\\site-packages (0.0.7)\n",
      "Requirement already satisfied: pandas>=1.0.0 in c:\\users\\o_o\\anaconda3\\lib\\site-packages (from ucimlrepo) (2.1.4)\n",
      "Requirement already satisfied: certifi>=2020.12.5 in c:\\users\\o_o\\anaconda3\\lib\\site-packages (from ucimlrepo) (2024.2.2)\n",
      "Requirement already satisfied: numpy<2,>=1.23.2 in c:\\users\\o_o\\anaconda3\\lib\\site-packages (from pandas>=1.0.0->ucimlrepo) (1.26.4)\n",
      "Requirement already satisfied: python-dateutil>=2.8.2 in c:\\users\\o_o\\anaconda3\\lib\\site-packages (from pandas>=1.0.0->ucimlrepo) (2.8.2)\n",
      "Requirement already satisfied: pytz>=2020.1 in c:\\users\\o_o\\anaconda3\\lib\\site-packages (from pandas>=1.0.0->ucimlrepo) (2023.3.post1)\n",
      "Requirement already satisfied: tzdata>=2022.1 in c:\\users\\o_o\\anaconda3\\lib\\site-packages (from pandas>=1.0.0->ucimlrepo) (2023.3)\n",
      "Requirement already satisfied: six>=1.5 in c:\\users\\o_o\\anaconda3\\lib\\site-packages (from python-dateutil>=2.8.2->pandas>=1.0.0->ucimlrepo) (1.16.0)\n"
     ]
    }
   ],
   "source": [
    "!pip3 install -U ucimlrepo "
   ]
  },
  {
   "cell_type": "code",
   "execution_count": 21,
   "id": "d47f7a3c",
   "metadata": {},
   "outputs": [],
   "source": [
    "import pandas as pd\n",
    "import numpy as np\n",
    "\n",
    "from ucimlrepo import fetch_ucirepo, list_available_datasets"
   ]
  },
  {
   "cell_type": "code",
   "execution_count": 64,
   "id": "00f0861a",
   "metadata": {
    "scrolled": true
   },
   "outputs": [],
   "source": [
    "auto_mpg = fetch_ucirepo(id=9)\n",
    "\n",
    "X = auto_mpg.data.features\n",
    "y = auto_mpg.data.targets"
   ]
  },
  {
   "cell_type": "code",
   "execution_count": 67,
   "id": "19dd7ac6",
   "metadata": {
    "scrolled": true
   },
   "outputs": [
    {
     "name": "stdout",
     "output_type": "stream",
     "text": [
      "     displacement  cylinders  horsepower  weight  acceleration  model_year  \\\n",
      "0           307.0          8       130.0    3504          12.0          70   \n",
      "1           350.0          8       165.0    3693          11.5          70   \n",
      "2           318.0          8       150.0    3436          11.0          70   \n",
      "3           304.0          8       150.0    3433          12.0          70   \n",
      "4           302.0          8       140.0    3449          10.5          70   \n",
      "..            ...        ...         ...     ...           ...         ...   \n",
      "393         140.0          4        86.0    2790          15.6          82   \n",
      "394          97.0          4        52.0    2130          24.6          82   \n",
      "395         135.0          4        84.0    2295          11.6          82   \n",
      "396         120.0          4        79.0    2625          18.6          82   \n",
      "397         119.0          4        82.0    2720          19.4          82   \n",
      "\n",
      "     origin  \n",
      "0         1  \n",
      "1         1  \n",
      "2         1  \n",
      "3         1  \n",
      "4         1  \n",
      "..      ...  \n",
      "393       1  \n",
      "394       2  \n",
      "395       1  \n",
      "396       1  \n",
      "397       1  \n",
      "\n",
      "[392 rows x 7 columns]\n"
     ]
    }
   ],
   "source": [
    "df_features = pd.DataFrame(X, columns=auto_mpg.data.feature_names)\n",
    "print(df_features[~df_features.isna().any(axis=1)])"
   ]
  }
 ],
 "metadata": {
  "kernelspec": {
   "display_name": "Python 3 (ipykernel)",
   "language": "python",
   "name": "python3"
  },
  "language_info": {
   "codemirror_mode": {
    "name": "ipython",
    "version": 3
   },
   "file_extension": ".py",
   "mimetype": "text/x-python",
   "name": "python",
   "nbconvert_exporter": "python",
   "pygments_lexer": "ipython3",
   "version": "3.11.7"
  }
 },
 "nbformat": 4,
 "nbformat_minor": 5
}
