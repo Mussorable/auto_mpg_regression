{
 "cells": [
  {
   "cell_type": "code",
   "execution_count": 1,
   "id": "cb9792e5",
   "metadata": {
    "collapsed": true
   },
   "outputs": [
    {
     "name": "stdout",
     "output_type": "stream",
     "text": [
      "Requirement already satisfied: ucimlrepo in c:\\users\\o_o\\anaconda3\\lib\\site-packages (0.0.7)\n",
      "Requirement already satisfied: pandas>=1.0.0 in c:\\users\\o_o\\anaconda3\\lib\\site-packages (from ucimlrepo) (2.1.4)\n",
      "Requirement already satisfied: certifi>=2020.12.5 in c:\\users\\o_o\\anaconda3\\lib\\site-packages (from ucimlrepo) (2024.2.2)\n",
      "Requirement already satisfied: numpy<2,>=1.23.2 in c:\\users\\o_o\\anaconda3\\lib\\site-packages (from pandas>=1.0.0->ucimlrepo) (1.26.4)\n",
      "Requirement already satisfied: python-dateutil>=2.8.2 in c:\\users\\o_o\\anaconda3\\lib\\site-packages (from pandas>=1.0.0->ucimlrepo) (2.8.2)\n",
      "Requirement already satisfied: pytz>=2020.1 in c:\\users\\o_o\\anaconda3\\lib\\site-packages (from pandas>=1.0.0->ucimlrepo) (2023.3.post1)\n",
      "Requirement already satisfied: tzdata>=2022.1 in c:\\users\\o_o\\anaconda3\\lib\\site-packages (from pandas>=1.0.0->ucimlrepo) (2023.3)\n",
      "Requirement already satisfied: six>=1.5 in c:\\users\\o_o\\anaconda3\\lib\\site-packages (from python-dateutil>=2.8.2->pandas>=1.0.0->ucimlrepo) (1.16.0)\n",
      "Requirement already satisfied: scikit-learn in c:\\users\\o_o\\anaconda3\\lib\\site-packages (1.5.0)\n",
      "Requirement already satisfied: numpy>=1.19.5 in c:\\users\\o_o\\anaconda3\\lib\\site-packages (from scikit-learn) (1.26.4)\n",
      "Requirement already satisfied: scipy>=1.6.0 in c:\\users\\o_o\\anaconda3\\lib\\site-packages (from scikit-learn) (1.11.4)\n",
      "Requirement already satisfied: joblib>=1.2.0 in c:\\users\\o_o\\anaconda3\\lib\\site-packages (from scikit-learn) (1.2.0)\n",
      "Requirement already satisfied: threadpoolctl>=3.1.0 in c:\\users\\o_o\\anaconda3\\lib\\site-packages (from scikit-learn) (3.5.0)\n"
     ]
    }
   ],
   "source": [
    "!pip3 install -U ucimlrepo\n",
    "!pip install -U scikit-learn"
   ]
  },
  {
   "cell_type": "code",
   "execution_count": 201,
   "id": "d47f7a3c",
   "metadata": {},
   "outputs": [],
   "source": [
    "import pandas as pd\n",
    "import numpy as np\n",
    "import matplotlib.pyplot as plt\n",
    "\n",
    "from ucimlrepo import fetch_ucirepo, list_available_datasets\n",
    "\n",
    "from sklearn.linear_model import LinearRegression, Ridge\n",
    "from sklearn.model_selection import train_test_split, GridSearchCV\n",
    "from sklearn.preprocessing import StandardScaler\n",
    "from sklearn.metrics import mean_squared_error, r2_score"
   ]
  },
  {
   "cell_type": "code",
   "execution_count": 3,
   "id": "00f0861a",
   "metadata": {
    "scrolled": true
   },
   "outputs": [],
   "source": [
    "auto_mpg = fetch_ucirepo(id=9)\n",
    "\n",
    "X = auto_mpg.data.features\n",
    "y = auto_mpg.data.targets"
   ]
  },
  {
   "cell_type": "code",
   "execution_count": 125,
   "id": "19dd7ac6",
   "metadata": {
    "scrolled": true
   },
   "outputs": [],
   "source": [
    "df_features = pd.DataFrame(X, columns=auto_mpg.data.feature_names)\n",
    "\n",
    "# initial power factor per cubic inch\n",
    "pfci = 3.78\n",
    "\n",
    "# filling missing values with apprx values using (displacement/cylinders) * pfci\n",
    "df_features['horsepower'] = df_features['horsepower'].fillna((df_features['displacement'] / df_features['cylinders']) * pfci)"
   ]
  },
  {
   "cell_type": "code",
   "execution_count": 121,
   "id": "7008be1d",
   "metadata": {},
   "outputs": [],
   "source": [
    "x_train, x_temp, y_train, y_temp = train_test_split(df_features, y, test_size = 0.3, random_state=42)\n",
    "x_val, x_test, y_val, y_test = train_test_split(x_temp, y_temp, test_size = 0.5, random_state=42)\n",
    "\n",
    "scaler = StandardScaler()\n",
    "\n",
    "x_train_scaled = scaler.fit_transform(x_train)\n",
    "x_val_scaled = scaler.transform(x_val)\n",
    "x_test_scaled = scaler.transform(x_test)"
   ]
  },
  {
   "cell_type": "code",
   "execution_count": 122,
   "id": "88f5ddbd",
   "metadata": {
    "scrolled": true
   },
   "outputs": [],
   "source": [
    "model = LinearRegression()\n",
    "model.fit(x_train_scaled, y_train)\n",
    "\n",
    "y_val_predict = model.predict(x_val_scaled)\n",
    "y_test_predict = model.predict(x_test_scaled)"
   ]
  },
  {
   "cell_type": "markdown",
   "id": "74a9ede5",
   "metadata": {},
   "source": [
    "<!-- Make new my own data to predict target(mpg) -->"
   ]
  },
  {
   "cell_type": "markdown",
   "id": "f40344ef",
   "metadata": {},
   "source": [
    "<!-- Implement my own example data -->"
   ]
  },
  {
   "cell_type": "code",
   "execution_count": 169,
   "id": "de438cc4",
   "metadata": {
    "scrolled": true
   },
   "outputs": [
    {
     "name": "stderr",
     "output_type": "stream",
     "text": [
      "C:\\Users\\O_O\\anaconda3\\Lib\\site-packages\\sklearn\\base.py:493: UserWarning: X does not have valid feature names, but StandardScaler was fitted with feature names\n",
      "  warnings.warn(\n"
     ]
    }
   ],
   "source": [
    "x_my_data = np.array([[396.0, 4, 101, 2866, 12.3, 99, 2]])\n",
    "x_my_data_scaled = scaler.transform(x_my_data)\n",
    "\n",
    "y_my_data = model.predict(x_my_data_scaled)"
   ]
  },
  {
   "cell_type": "code",
   "execution_count": 216,
   "id": "a0b6528f",
   "metadata": {},
   "outputs": [],
   "source": [
    "ridge_reg = Ridge(alpha=1)\n",
    "ridge_reg.fit(x_train_scaled, y_train)\n",
    "\n",
    "y_ridge_predict = ridge_reg.predict(x_test_scaled)"
   ]
  },
  {
   "cell_type": "code",
   "execution_count": 210,
   "id": "93ebe73d",
   "metadata": {},
   "outputs": [
    {
     "name": "stdout",
     "output_type": "stream",
     "text": [
      "Best alpha:{'alpha': 1.0}\n",
      "Best R^2:0.7970650400062372\n"
     ]
    }
   ],
   "source": [
    "# trying to find the best possible value of alpha for Ridge regularization\n",
    "alphas = np.logspace(-3, 3, 7)\n",
    "grid_search = GridSearchCV(estimator=ridge_reg, param_grid={'alpha': alphas}, scoring='r2', cv=4)\n",
    "grid_search.fit(x_train_scaled, y_train)\n",
    "\n",
    "print(f'Best alpha:{grid_search.best_params_}')\n",
    "print(f'Best R^2:{grid_search.best_score_}')"
   ]
  },
  {
   "cell_type": "markdown",
   "id": "b718f353",
   "metadata": {},
   "source": [
    "<!-- Predicted data score using data without regularization / using iniatial value of pfci -->"
   ]
  },
  {
   "cell_type": "code",
   "execution_count": 217,
   "id": "d470cb3f",
   "metadata": {
    "scrolled": true
   },
   "outputs": [
    {
     "name": "stdout",
     "output_type": "stream",
     "text": [
      "0.8525868064633747\n",
      "0.9999403485329461\n",
      "MSE for test: 9.685036987810044\n",
      "r2 score for test: 0.8525868064633747\n",
      "MSE for ridge: 9.745883073899432\n",
      "r2 score for test: 0.8516606854918255\n"
     ]
    }
   ],
   "source": [
    "print(model.score(x_test_scaled, y_test))\n",
    "print(model.score(x_test_scaled, y_ridge_predict))\n",
    "\n",
    "print(f'MSE for test: {mean_squared_error(y_test, y_test_predict)}')\n",
    "print(f'r2 score for test: {r2_score(y_test, y_test_predict)}')\n",
    "\n",
    "print(f'MSE for ridge: {mean_squared_error(y_test, y_ridge_predict)}')\n",
    "print(f'r2 score for test: {r2_score(y_test, y_ridge_predict)}')"
   ]
  },
  {
   "cell_type": "code",
   "execution_count": 214,
   "id": "2422c607",
   "metadata": {
    "scrolled": false
   },
   "outputs": [
    {
     "data": {
      "image/png": "[encoded data removed]",
      "text/plain": [
       "<Figure size 640x480 with 1 Axes>"
      ]
     },
     "metadata": {},
     "output_type": "display_data"
    }
   ],
   "source": [
    "plt.scatter(x_test['horsepower'], y_test, alpha=0.4)\n",
    "plt.scatter(x_test['horsepower'], y_test_predict, alpha=0.4)\n",
    "plt.scatter(x_test['horsepower'], y_ridge_predict, alpha=0.4)\n",
    "plt.scatter(x_my_data[0][2], y_my_data, alpha=1)\n",
    "\n",
    "plt.xlabel('horsepower')\n",
    "plt.ylabel('mpg')\n",
    "plt.title('without regularization')\n",
    "plt.show()"
   ]
  }
 ],
 "metadata": {
  "kernelspec": {
   "display_name": "Python 3 (ipykernel)",
   "language": "python",
   "name": "python3"
  },
  "language_info": {
   "codemirror_mode": {
    "name": "ipython",
    "version": 3
   },
   "file_extension": ".py",
   "mimetype": "text/x-python",
   "name": "python",
   "nbconvert_exporter": "python",
   "pygments_lexer": "ipython3",
   "version": "3.11.7"
  }
 },
 "nbformat": 4,
 "nbformat_minor": 5
}
