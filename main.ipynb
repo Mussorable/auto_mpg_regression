{
 "cells": [
  {
   "cell_type": "code",
   "execution_count": 3,
   "id": "cb9792e5",
   "metadata": {
    "scrolled": true
   },
   "outputs": [
    {
     "name": "stdout",
     "output_type": "stream",
     "text": [
      "Requirement already satisfied: ucimlrepo in c:\\users\\o_o\\anaconda3\\lib\\site-packages (0.0.7)\n",
      "Requirement already satisfied: pandas>=1.0.0 in c:\\users\\o_o\\anaconda3\\lib\\site-packages (from ucimlrepo) (2.1.4)\n",
      "Requirement already satisfied: certifi>=2020.12.5 in c:\\users\\o_o\\anaconda3\\lib\\site-packages (from ucimlrepo) (2024.2.2)\n",
      "Requirement already satisfied: numpy<2,>=1.23.2 in c:\\users\\o_o\\anaconda3\\lib\\site-packages (from pandas>=1.0.0->ucimlrepo) (1.26.4)\n",
      "Requirement already satisfied: python-dateutil>=2.8.2 in c:\\users\\o_o\\anaconda3\\lib\\site-packages (from pandas>=1.0.0->ucimlrepo) (2.8.2)\n",
      "Requirement already satisfied: pytz>=2020.1 in c:\\users\\o_o\\anaconda3\\lib\\site-packages (from pandas>=1.0.0->ucimlrepo) (2023.3.post1)\n",
      "Requirement already satisfied: tzdata>=2022.1 in c:\\users\\o_o\\anaconda3\\lib\\site-packages (from pandas>=1.0.0->ucimlrepo) (2023.3)\n",
      "Requirement already satisfied: six>=1.5 in c:\\users\\o_o\\anaconda3\\lib\\site-packages (from python-dateutil>=2.8.2->pandas>=1.0.0->ucimlrepo) (1.16.0)\n"
     ]
    }
   ],
   "source": [
    "!pip3 install -U ucimlrepo "
   ]
  },
  {
   "cell_type": "code",
   "execution_count": 4,
   "id": "d47f7a3c",
   "metadata": {},
   "outputs": [],
   "source": [
    "import pandas as pd\n",
    "import numpy as np\n",
    "\n",
    "from ucimlrepo import fetch_ucirepo, list_available_datasets"
   ]
  },
  {
   "cell_type": "code",
   "execution_count": 5,
   "id": "00f0861a",
   "metadata": {
    "scrolled": true
   },
   "outputs": [],
   "source": [
    "auto_mpg = fetch_ucirepo(id=9)\n",
    "\n",
    "X = auto_mpg.data.features\n",
    "y = auto_mpg.data.targets"
   ]
  },
  {
   "cell_type": "code",
   "execution_count": 8,
   "id": "19dd7ac6",
   "metadata": {
    "scrolled": true
   },
   "outputs": [
    {
     "name": "stdout",
     "output_type": "stream",
     "text": [
      "     displacement  cylinders  horsepower  weight  acceleration  model_year  \\\n",
      "32           98.0          4         NaN    2046          19.0          71   \n",
      "126         200.0          6         NaN    2875          17.0          74   \n",
      "330          85.0          4         NaN    1835          17.3          80   \n",
      "336         140.0          4         NaN    2905          14.3          80   \n",
      "354         100.0          4         NaN    2320          15.8          81   \n",
      "374         151.0          4         NaN    3035          20.5          82   \n",
      "\n",
      "     origin  \n",
      "32        1  \n",
      "126       1  \n",
      "330       2  \n",
      "336       1  \n",
      "354       2  \n",
      "374       1  \n"
     ]
    }
   ],
   "source": [
    "df_features = pd.DataFrame(X, columns=auto_mpg.data.feature_names)\n",
    "print(df_features[df_features.isna().any(axis=1)])"
   ]
  }
 ],
 "metadata": {
  "kernelspec": {
   "display_name": "Python 3 (ipykernel)",
   "language": "python",
   "name": "python3"
  },
  "language_info": {
   "codemirror_mode": {
    "name": "ipython",
    "version": 3
   },
   "file_extension": ".py",
   "mimetype": "text/x-python",
   "name": "python",
   "nbconvert_exporter": "python",
   "pygments_lexer": "ipython3",
   "version": "3.11.7"
  }
 },
 "nbformat": 4,
 "nbformat_minor": 5
}
